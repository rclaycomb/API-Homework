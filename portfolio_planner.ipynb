{
 "cells": [
  {
   "cell_type": "code",
   "execution_count": 1,
   "metadata": {},
   "outputs": [],
   "source": [
    "import numpy as np\n",
    "import pandas as pd\n",
    "from datetime import datetime, timedelta\n",
    "import os\n",
    "import matplotlib.pyplot as plt\n",
    "import alpaca_trade_api as tradeapi\n",
    "%matplotlib inline"
   ]
  },
  {
   "cell_type": "code",
   "execution_count": 2,
   "metadata": {},
   "outputs": [],
   "source": [
    "np.random.seed(42)"
   ]
  },
  {
   "cell_type": "markdown",
   "metadata": {},
   "source": [
    "# Portfolio Planner"
   ]
  },
  {
   "cell_type": "markdown",
   "metadata": {},
   "source": [
    "---"
   ]
  },
  {
   "cell_type": "code",
   "execution_count": 3,
   "metadata": {},
   "outputs": [
    {
     "name": "stdout",
     "output_type": "stream",
     "text": [
      "Requirement already satisfied: python-dotenv in c:\\users\\ryan claycomb\\anaconda3\\lib\\site-packages (0.13.0)\n"
     ]
    }
   ],
   "source": [
    "# Load .env enviroment variables\n",
    "!pip install python-dotenv\n",
    "from dotenv import load_dotenv\n",
    "load_dotenv()\n",
    "\n",
    "# Set Alpaca API key and secret\n",
    "alpaca_api_key = os.getenv(\"ALPACA_API_KEY\")\n",
    "alpaca_secret_key = os.getenv(\"ALPACA_SECRET_KEY\")\n",
    "\n",
    "api = tradeapi.REST(alpaca_api_key, alpaca_secret_key, api_version='v2')"
   ]
  },
  {
   "cell_type": "code",
   "execution_count": 4,
   "metadata": {},
   "outputs": [
    {
     "data": {
      "text/html": [
       "<div>\n",
       "<style scoped>\n",
       "    .dataframe tbody tr th:only-of-type {\n",
       "        vertical-align: middle;\n",
       "    }\n",
       "\n",
       "    .dataframe tbody tr th {\n",
       "        vertical-align: top;\n",
       "    }\n",
       "\n",
       "    .dataframe thead tr th {\n",
       "        text-align: left;\n",
       "    }\n",
       "\n",
       "    .dataframe thead tr:last-of-type th {\n",
       "        text-align: right;\n",
       "    }\n",
       "</style>\n",
       "<table border=\"1\" class=\"dataframe\">\n",
       "  <thead>\n",
       "    <tr>\n",
       "      <th></th>\n",
       "      <th>AGG</th>\n",
       "      <th>SPY</th>\n",
       "    </tr>\n",
       "    <tr>\n",
       "      <th></th>\n",
       "      <th>close</th>\n",
       "      <th>close</th>\n",
       "    </tr>\n",
       "    <tr>\n",
       "      <th>time</th>\n",
       "      <th></th>\n",
       "      <th></th>\n",
       "    </tr>\n",
       "  </thead>\n",
       "  <tbody>\n",
       "    <tr>\n",
       "      <td>2019-11-25 00:00:00-05:00</td>\n",
       "      <td>112.980</td>\n",
       "      <td>313.35</td>\n",
       "    </tr>\n",
       "    <tr>\n",
       "      <td>2019-11-26 00:00:00-05:00</td>\n",
       "      <td>113.120</td>\n",
       "      <td>314.02</td>\n",
       "    </tr>\n",
       "    <tr>\n",
       "      <td>2019-11-27 00:00:00-05:00</td>\n",
       "      <td>112.995</td>\n",
       "      <td>315.46</td>\n",
       "    </tr>\n",
       "    <tr>\n",
       "      <td>2019-11-29 00:00:00-05:00</td>\n",
       "      <td>112.925</td>\n",
       "      <td>314.27</td>\n",
       "    </tr>\n",
       "    <tr>\n",
       "      <td>2019-12-02 00:00:00-05:00</td>\n",
       "      <td>112.480</td>\n",
       "      <td>311.60</td>\n",
       "    </tr>\n",
       "  </tbody>\n",
       "</table>\n",
       "</div>"
      ],
      "text/plain": [
       "                               AGG     SPY\n",
       "                             close   close\n",
       "time                                      \n",
       "2019-11-25 00:00:00-05:00  112.980  313.35\n",
       "2019-11-26 00:00:00-05:00  113.120  314.02\n",
       "2019-11-27 00:00:00-05:00  112.995  315.46\n",
       "2019-11-29 00:00:00-05:00  112.925  314.27\n",
       "2019-12-02 00:00:00-05:00  112.480  311.60"
      ]
     },
     "execution_count": 4,
     "metadata": {},
     "output_type": "execute_result"
    }
   ],
   "source": [
    "# Setting ticker\n",
    "list_of_tickers = [\"SPY\", \"AGG\"]\n",
    "\n",
    "timeframe = '1D'\n",
    "end_date = datetime.now()\n",
    "start_date = end_date + timedelta(-365)\n",
    "\n",
    "df = api.get_barset(\n",
    "    list_of_tickers,\n",
    "    timeframe,\n",
    "    limit=None,\n",
    "    start=start_date,\n",
    "    end=end_date,\n",
    "    after=None,\n",
    "    until=None,\n",
    ").df\n",
    "    \n",
    "df.drop(columns=['open', 'high', 'low', 'volume'], level=1, inplace=True)\n",
    "    \n",
    "df.head()"
   ]
  },
  {
   "cell_type": "markdown",
   "metadata": {},
   "source": [
    "# Monte Carlo Simulation"
   ]
  },
  {
   "cell_type": "markdown",
   "metadata": {},
   "source": [
    "---"
   ]
  },
  {
   "cell_type": "code",
   "execution_count": 5,
   "metadata": {},
   "outputs": [
    {
     "data": {
      "text/html": [
       "<div>\n",
       "<style scoped>\n",
       "    .dataframe tbody tr th:only-of-type {\n",
       "        vertical-align: middle;\n",
       "    }\n",
       "\n",
       "    .dataframe tbody tr th {\n",
       "        vertical-align: top;\n",
       "    }\n",
       "\n",
       "    .dataframe thead tr th {\n",
       "        text-align: left;\n",
       "    }\n",
       "\n",
       "    .dataframe thead tr:last-of-type th {\n",
       "        text-align: right;\n",
       "    }\n",
       "</style>\n",
       "<table border=\"1\" class=\"dataframe\">\n",
       "  <thead>\n",
       "    <tr>\n",
       "      <th></th>\n",
       "      <th>AGG</th>\n",
       "      <th>SPY</th>\n",
       "    </tr>\n",
       "    <tr>\n",
       "      <th></th>\n",
       "      <th>close</th>\n",
       "      <th>close</th>\n",
       "    </tr>\n",
       "    <tr>\n",
       "      <th>time</th>\n",
       "      <th></th>\n",
       "      <th></th>\n",
       "    </tr>\n",
       "  </thead>\n",
       "  <tbody>\n",
       "    <tr>\n",
       "      <td>2019-11-25 00:00:00-05:00</td>\n",
       "      <td>NaN</td>\n",
       "      <td>NaN</td>\n",
       "    </tr>\n",
       "    <tr>\n",
       "      <td>2019-11-26 00:00:00-05:00</td>\n",
       "      <td>0.001239</td>\n",
       "      <td>0.002138</td>\n",
       "    </tr>\n",
       "    <tr>\n",
       "      <td>2019-11-27 00:00:00-05:00</td>\n",
       "      <td>-0.001105</td>\n",
       "      <td>0.004586</td>\n",
       "    </tr>\n",
       "    <tr>\n",
       "      <td>2019-11-29 00:00:00-05:00</td>\n",
       "      <td>-0.000619</td>\n",
       "      <td>-0.003772</td>\n",
       "    </tr>\n",
       "    <tr>\n",
       "      <td>2019-12-02 00:00:00-05:00</td>\n",
       "      <td>-0.003941</td>\n",
       "      <td>-0.008496</td>\n",
       "    </tr>\n",
       "  </tbody>\n",
       "</table>\n",
       "</div>"
      ],
      "text/plain": [
       "                                AGG       SPY\n",
       "                              close     close\n",
       "time                                         \n",
       "2019-11-25 00:00:00-05:00       NaN       NaN\n",
       "2019-11-26 00:00:00-05:00  0.001239  0.002138\n",
       "2019-11-27 00:00:00-05:00 -0.001105  0.004586\n",
       "2019-11-29 00:00:00-05:00 -0.000619 -0.003772\n",
       "2019-12-02 00:00:00-05:00 -0.003941 -0.008496"
      ]
     },
     "execution_count": 5,
     "metadata": {},
     "output_type": "execute_result"
    }
   ],
   "source": [
    "# Caculating daily returns\n",
    "daily_returns = df.pct_change()\n",
    "daily_returns.head()"
   ]
  },
  {
   "cell_type": "code",
   "execution_count": 6,
   "metadata": {},
   "outputs": [
    {
     "data": {
      "text/plain": [
       "0.000397954823720234"
      ]
     },
     "execution_count": 6,
     "metadata": {},
     "output_type": "execute_result"
    }
   ],
   "source": [
    "# Calculating average daily returns\n",
    "avg_daily_return_spy = daily_returns.mean()['SPY']['close']\n",
    "avg_daily_return_agg = daily_returns.mean()['AGG']['close']\n",
    "avg_daily_return_agg"
   ]
  },
  {
   "cell_type": "code",
   "execution_count": 7,
   "metadata": {},
   "outputs": [
    {
     "data": {
      "text/plain": [
       "0.00849621679692908"
      ]
     },
     "execution_count": 7,
     "metadata": {},
     "output_type": "execute_result"
    }
   ],
   "source": [
    "#Calculate volatility\n",
    "std_dev_daily_return_spy = daily_returns.std()['SPY']['close']\n",
    "std_dev_daily_return_agg = daily_returns.std()['AGG']['close']\n",
    "std_dev_daily_return_agg"
   ]
  },
  {
   "cell_type": "code",
   "execution_count": 8,
   "metadata": {},
   "outputs": [],
   "source": [
    "# Save the last day's closing price\n",
    "spy_last_price = df['SPY']['close'][-1]\n",
    "agg_last_price = df['AGG']['close'][-1]"
   ]
  },
  {
   "cell_type": "code",
   "execution_count": 9,
   "metadata": {},
   "outputs": [],
   "source": [
    "# Setup the Monte Carlo Parameters\n",
    "num_simulations = 500\n",
    "number_trading_days = 252 * 30\n",
    "monte_carlo = pd.DataFrame()"
   ]
  },
  {
   "cell_type": "code",
   "execution_count": 10,
   "metadata": {},
   "outputs": [
    {
     "data": {
      "text/html": [
       "<div>\n",
       "<style scoped>\n",
       "    .dataframe tbody tr th:only-of-type {\n",
       "        vertical-align: middle;\n",
       "    }\n",
       "\n",
       "    .dataframe tbody tr th {\n",
       "        vertical-align: top;\n",
       "    }\n",
       "\n",
       "    .dataframe thead th {\n",
       "        text-align: right;\n",
       "    }\n",
       "</style>\n",
       "<table border=\"1\" class=\"dataframe\">\n",
       "  <thead>\n",
       "    <tr style=\"text-align: right;\">\n",
       "      <th></th>\n",
       "      <th>0</th>\n",
       "      <th>1</th>\n",
       "      <th>2</th>\n",
       "      <th>3</th>\n",
       "      <th>4</th>\n",
       "      <th>5</th>\n",
       "      <th>6</th>\n",
       "      <th>7</th>\n",
       "      <th>8</th>\n",
       "      <th>9</th>\n",
       "      <th>...</th>\n",
       "      <th>490</th>\n",
       "      <th>491</th>\n",
       "      <th>492</th>\n",
       "      <th>493</th>\n",
       "      <th>494</th>\n",
       "      <th>495</th>\n",
       "      <th>496</th>\n",
       "      <th>497</th>\n",
       "      <th>498</th>\n",
       "      <th>499</th>\n",
       "    </tr>\n",
       "  </thead>\n",
       "  <tbody>\n",
       "    <tr>\n",
       "      <td>0</td>\n",
       "      <td>1.000000</td>\n",
       "      <td>1.000000</td>\n",
       "      <td>1.000000</td>\n",
       "      <td>1.000000</td>\n",
       "      <td>1.000000</td>\n",
       "      <td>1.000000</td>\n",
       "      <td>1.000000</td>\n",
       "      <td>1.000000</td>\n",
       "      <td>1.000000</td>\n",
       "      <td>1.000000</td>\n",
       "      <td>...</td>\n",
       "      <td>1.000000</td>\n",
       "      <td>1.000000</td>\n",
       "      <td>1.000000</td>\n",
       "      <td>1.000000</td>\n",
       "      <td>1.000000</td>\n",
       "      <td>1.000000</td>\n",
       "      <td>1.000000</td>\n",
       "      <td>1.000000</td>\n",
       "      <td>1.000000</td>\n",
       "      <td>1.000000</td>\n",
       "    </tr>\n",
       "    <tr>\n",
       "      <td>1</td>\n",
       "      <td>1.008365</td>\n",
       "      <td>0.981525</td>\n",
       "      <td>0.972129</td>\n",
       "      <td>0.996573</td>\n",
       "      <td>1.019402</td>\n",
       "      <td>1.023737</td>\n",
       "      <td>1.033360</td>\n",
       "      <td>0.984124</td>\n",
       "      <td>1.004636</td>\n",
       "      <td>0.994338</td>\n",
       "      <td>...</td>\n",
       "      <td>1.005878</td>\n",
       "      <td>0.981149</td>\n",
       "      <td>1.025399</td>\n",
       "      <td>0.997737</td>\n",
       "      <td>0.988749</td>\n",
       "      <td>1.009554</td>\n",
       "      <td>0.983278</td>\n",
       "      <td>0.974555</td>\n",
       "      <td>1.009389</td>\n",
       "      <td>0.987355</td>\n",
       "    </tr>\n",
       "    <tr>\n",
       "      <td>2</td>\n",
       "      <td>1.025266</td>\n",
       "      <td>0.994012</td>\n",
       "      <td>0.967407</td>\n",
       "      <td>0.990218</td>\n",
       "      <td>1.029634</td>\n",
       "      <td>0.986195</td>\n",
       "      <td>1.009226</td>\n",
       "      <td>0.941723</td>\n",
       "      <td>0.999234</td>\n",
       "      <td>1.023992</td>\n",
       "      <td>...</td>\n",
       "      <td>1.011751</td>\n",
       "      <td>1.006535</td>\n",
       "      <td>1.035166</td>\n",
       "      <td>1.001862</td>\n",
       "      <td>0.991890</td>\n",
       "      <td>0.994713</td>\n",
       "      <td>0.979214</td>\n",
       "      <td>0.973998</td>\n",
       "      <td>1.006707</td>\n",
       "      <td>0.999471</td>\n",
       "    </tr>\n",
       "    <tr>\n",
       "      <td>3</td>\n",
       "      <td>1.019861</td>\n",
       "      <td>0.991927</td>\n",
       "      <td>0.978331</td>\n",
       "      <td>0.966114</td>\n",
       "      <td>1.024701</td>\n",
       "      <td>0.995343</td>\n",
       "      <td>1.021988</td>\n",
       "      <td>0.917577</td>\n",
       "      <td>0.996156</td>\n",
       "      <td>1.053798</td>\n",
       "      <td>...</td>\n",
       "      <td>1.009646</td>\n",
       "      <td>1.014484</td>\n",
       "      <td>1.051155</td>\n",
       "      <td>1.005451</td>\n",
       "      <td>0.964547</td>\n",
       "      <td>0.987852</td>\n",
       "      <td>0.991193</td>\n",
       "      <td>0.992586</td>\n",
       "      <td>1.017461</td>\n",
       "      <td>0.992918</td>\n",
       "    </tr>\n",
       "    <tr>\n",
       "      <td>4</td>\n",
       "      <td>1.051639</td>\n",
       "      <td>1.000773</td>\n",
       "      <td>0.962912</td>\n",
       "      <td>0.985688</td>\n",
       "      <td>1.028456</td>\n",
       "      <td>0.974255</td>\n",
       "      <td>1.015110</td>\n",
       "      <td>0.905447</td>\n",
       "      <td>1.024002</td>\n",
       "      <td>1.011457</td>\n",
       "      <td>...</td>\n",
       "      <td>1.014562</td>\n",
       "      <td>1.005477</td>\n",
       "      <td>1.043173</td>\n",
       "      <td>1.022750</td>\n",
       "      <td>0.985320</td>\n",
       "      <td>0.974284</td>\n",
       "      <td>0.967578</td>\n",
       "      <td>0.993157</td>\n",
       "      <td>1.032682</td>\n",
       "      <td>1.004017</td>\n",
       "    </tr>\n",
       "  </tbody>\n",
       "</table>\n",
       "<p>5 rows × 500 columns</p>\n",
       "</div>"
      ],
      "text/plain": [
       "        0         1         2         3         4         5         6    \\\n",
       "0  1.000000  1.000000  1.000000  1.000000  1.000000  1.000000  1.000000   \n",
       "1  1.008365  0.981525  0.972129  0.996573  1.019402  1.023737  1.033360   \n",
       "2  1.025266  0.994012  0.967407  0.990218  1.029634  0.986195  1.009226   \n",
       "3  1.019861  0.991927  0.978331  0.966114  1.024701  0.995343  1.021988   \n",
       "4  1.051639  1.000773  0.962912  0.985688  1.028456  0.974255  1.015110   \n",
       "\n",
       "        7         8         9    ...       490       491       492       493  \\\n",
       "0  1.000000  1.000000  1.000000  ...  1.000000  1.000000  1.000000  1.000000   \n",
       "1  0.984124  1.004636  0.994338  ...  1.005878  0.981149  1.025399  0.997737   \n",
       "2  0.941723  0.999234  1.023992  ...  1.011751  1.006535  1.035166  1.001862   \n",
       "3  0.917577  0.996156  1.053798  ...  1.009646  1.014484  1.051155  1.005451   \n",
       "4  0.905447  1.024002  1.011457  ...  1.014562  1.005477  1.043173  1.022750   \n",
       "\n",
       "        494       495       496       497       498       499  \n",
       "0  1.000000  1.000000  1.000000  1.000000  1.000000  1.000000  \n",
       "1  0.988749  1.009554  0.983278  0.974555  1.009389  0.987355  \n",
       "2  0.991890  0.994713  0.979214  0.973998  1.006707  0.999471  \n",
       "3  0.964547  0.987852  0.991193  0.992586  1.017461  0.992918  \n",
       "4  0.985320  0.974284  0.967578  0.993157  1.032682  1.004017  \n",
       "\n",
       "[5 rows x 500 columns]"
      ]
     },
     "execution_count": 10,
     "metadata": {},
     "output_type": "execute_result"
    }
   ],
   "source": [
    "simulated_price_df = pd.DataFrame()\n",
    "portfolio_cumulative_returns = pd.DataFrame()\n",
    "# Run the simulation of projecting stock prices for the next trading year\n",
    "for n in range(num_simulations):\n",
    "    # Initialize the simulated prices list with the last closing price of `SPY` and `AGG`\n",
    "    simulated_spy_prices = [spy_last_price]\n",
    "    simulated_agg_prices = [agg_last_price]\n",
    "    # Simulate the returns for 252 days\n",
    "    for i in range(number_trading_days):\n",
    "         # Calculate the simulated price using the last price within the list\n",
    "        simulated_spy_price = simulated_spy_prices[-1] * (1 + np.random.normal(avg_daily_return_spy, std_dev_daily_return_spy))\n",
    "        simulated_agg_price = simulated_agg_prices[-1] * (1 + np.random.normal(avg_daily_return_agg, std_dev_daily_return_agg))\n",
    "        \n",
    "        # Append the simulated price to the list\n",
    "        simulated_spy_prices.append(simulated_spy_price)\n",
    "        simulated_agg_prices.append(simulated_agg_price)\n",
    "        \n",
    "  # Append a simulated prices of each simulation to DataFrame\n",
    "    simulated_price_df[\"SPY prices\"] = pd.Series(simulated_spy_prices)\n",
    "    simulated_price_df[\"AGG prices\"] = pd.Series(simulated_agg_prices)\n",
    "    \n",
    "     # Calculate the daily returns of simulated prices\n",
    "    simulated_daily_returns = simulated_price_df.pct_change()\n",
    "    \n",
    "     # Set the portfolio weights (60% JNJ; 40% MU)\n",
    "    weights = [0.60, 0.40]\n",
    "    \n",
    "      # Use the `dot` function with the weights to multiply weights with each column's simulated daily returns\n",
    "    portfolio_daily_returns = simulated_daily_returns.dot(weights)\n",
    "    \n",
    "     # Calculate the normalized, cumulative return series\n",
    "    portfolio_cumulative_returns[n] = (1 + portfolio_daily_returns.fillna(0)).cumprod()\n",
    "    \n",
    "# Print records from the DataFrame\n",
    "portfolio_cumulative_returns.head()"
   ]
  },
  {
   "cell_type": "code",
   "execution_count": 11,
   "metadata": {},
   "outputs": [
    {
     "data": {
      "text/plain": [
       "<matplotlib.axes._subplots.AxesSubplot at 0x239ce887048>"
      ]
     },
     "execution_count": 11,
     "metadata": {},
     "output_type": "execute_result"
    },
    {
     "data": {
      "image/png": "[encoded data removed]",
      "text/plain": [
       "<Figure size 432x288 with 1 Axes>"
      ]
     },
     "metadata": {
      "needs_background": "light"
     },
     "output_type": "display_data"
    }
   ],
   "source": [
    "# Visualize the Simulation\n",
    "plot_title = f\"{n+1} Simulations of Cumulative Portfolio Return Trajectories Over the Next 252 Trading Days\"\n",
    "portfolio_cumulative_returns.plot(legend=None, title=plot_title)"
   ]
  },
  {
   "cell_type": "code",
   "execution_count": 12,
   "metadata": {},
   "outputs": [
    {
     "data": {
      "text/plain": [
       "0    0.094270\n",
       "1    0.044109\n",
       "2    0.154348\n",
       "3    0.183583\n",
       "4    0.127211\n",
       "Name: 7560, dtype: float64"
      ]
     },
     "execution_count": 12,
     "metadata": {},
     "output_type": "execute_result"
    }
   ],
   "source": [
    "# Select the last row for the cumulative returns (cumulative returns at 30 years)\n",
    "ending_cumulative_returns = portfolio_cumulative_returns.iloc[-1, :]\n",
    "ending_cumulative_returns.head()"
   ]
  },
  {
   "cell_type": "code",
   "execution_count": 13,
   "metadata": {},
   "outputs": [
    {
     "data": {
      "text/plain": [
       "495    0.477577\n",
       "496    0.003853\n",
       "497    0.080609\n",
       "498    0.853283\n",
       "499    0.004393\n",
       "Name: 7560, dtype: float64"
      ]
     },
     "execution_count": 13,
     "metadata": {},
     "output_type": "execute_result"
    }
   ],
   "source": [
    "# Select the last row for the cumulative returns (cumulative returns at 20 years)\n",
    "ending_cumulative_returns20 = portfolio_cumulative_returns.iloc[-1, :]\n",
    "ending_cumulative_returns20.tail()\n"
   ]
  },
  {
   "cell_type": "code",
   "execution_count": 14,
   "metadata": {},
   "outputs": [
    {
     "data": {
      "text/plain": [
       "0.05    0.003237\n",
       "0.95    0.699181\n",
       "Name: 7560, dtype: float64"
      ]
     },
     "execution_count": 14,
     "metadata": {},
     "output_type": "execute_result"
    }
   ],
   "source": [
    "# Display the 90% confidence interval for the ending returns\n",
    "ending_cumulative_returns.value_counts(bins=10) / len(ending_cumulative_returns)\n",
    "confidence_interval = ending_cumulative_returns.quantile(q=[0.05, 0.95])\n",
    "confidence_interval"
   ]
  },
  {
   "cell_type": "code",
   "execution_count": 15,
   "metadata": {},
   "outputs": [
    {
     "data": {
      "text/plain": [
       "<matplotlib.lines.Line2D at 0x239d0b73fc8>"
      ]
     },
     "execution_count": 15,
     "metadata": {},
     "output_type": "execute_result"
    },
    {
     "data": {
      "image/png": "[encoded data removed]",
      "text/plain": [
       "<Figure size 432x288 with 1 Axes>"
      ]
     },
     "metadata": {
      "needs_background": "light"
     },
     "output_type": "display_data"
    }
   ],
   "source": [
    "# Visualize the distribution of the ending returns\n",
    "plt.figure();\n",
    "ending_cumulative_returns.plot(kind='hist', density=True, bins=20)\n",
    "plt.axvline(confidence_interval.iloc[0], color='r')\n",
    "plt.axvline(confidence_interval.iloc[1], color='r')"
   ]
  },
  {
   "cell_type": "markdown",
   "metadata": {},
   "source": [
    "# Retirement Analysis"
   ]
  },
  {
   "cell_type": "markdown",
   "metadata": {},
   "source": [
    "---"
   ]
  },
  {
   "cell_type": "markdown",
   "metadata": {},
   "source": [
    "### What are the expected cumulative returns at 30 years for the 10th, 50th, and 90th percentiles?"
   ]
  },
  {
   "cell_type": "code",
   "execution_count": 52,
   "metadata": {},
   "outputs": [
    {
     "name": "stdout",
     "output_type": "stream",
     "text": [
      "0.0075617061081834245\n",
      "0.05020677620772136\n",
      "0.3610476009627848\n"
     ]
    }
   ],
   "source": [
    "# Expected cumulative returns for 10th, 50th, 90th percentiles\n",
    "percentile_10 = np.percentile(ending_cumulative_returns, 10)\n",
    "percentile_50 = np.percentile(ending_cumulative_returns, 50)\n",
    "percentile_90 = np.percentile(ending_cumulative_returns, 90)\n",
    "print(percentile_1)\n",
    "print(percentile_50)\n",
    "print(percentile_90)"
   ]
  },
  {
   "cell_type": "markdown",
   "metadata": {},
   "source": [
    "### Given an initial investment of $20,000, what is the expected porfolio return in dollars at the 10th, 50th, and 90th percentiles?"
   ]
  },
  {
   "cell_type": "code",
   "execution_count": 53,
   "metadata": {},
   "outputs": [
    {
     "name": "stdout",
     "output_type": "stream",
     "text": [
      "$20151.23\n",
      "$21004.14\n",
      "$27220.95\n"
     ]
    }
   ],
   "source": [
    "initial_investment = 20000\n",
    "\n",
    "portfolio_10 = round(initial_investment + (initial_investment * percentile_10), 2)\n",
    "portfolio_50 = round(initial_investment + (initial_investment * percentile_50), 2)\n",
    "portfolio_90 = round(initial_investment + (initial_investment * percentile_90), 2)\n",
    "\n",
    "print(f\"${portfolio_10}\")\n",
    "print(f\"${portfolio_50}\")\n",
    "print(f\"${portfolio_90}\")"
   ]
  },
  {
   "cell_type": "markdown",
   "metadata": {},
   "source": [
    "### Given the current projected annual income from the Plaid analysis, will a 4% withdraw rate from the retirement portfolio meet or exceed that value at the 10th percentile?"
   ]
  },
  {
   "cell_type": "code",
   "execution_count": 54,
   "metadata": {},
   "outputs": [
    {
     "name": "stdout",
     "output_type": "stream",
     "text": [
      "A 4% Withdraw will equal $806.05, which does not exceed the projected annual income of $6,000.\n"
     ]
    }
   ],
   "source": [
    "withdraw = round(0.04 * portfolio_10, 2) \n",
    "\n",
    "print(f\"A 4% Withdraw will equal ${withdraw}, which does not exceed the projected annual income of $6,000.\")"
   ]
  },
  {
   "cell_type": "markdown",
   "metadata": {},
   "source": [
    "### How would a 50% increase in the initial investment amount affect the 4% retirement withdrawal?"
   ]
  },
  {
   "cell_type": "code",
   "execution_count": 58,
   "metadata": {},
   "outputs": [
    {
     "name": "stdout",
     "output_type": "stream",
     "text": [
      "A 50% increase in the initial investment would bring the new 4% withdrawl to $1209.07.\n"
     ]
    }
   ],
   "source": [
    "new_initial_investment=30000\n",
    "\n",
    "new_portfolio_10 = round(new_initial_investment + (new_initial_investment * percentile_10), 2)\n",
    "new_portfolio_50 = round(new_initial_investment + (new_initial_investment * percentile_10), 2)\n",
    "new_portfolio_90 = round(new_initial_investment + (new_initial_investment * percentile_10), 2)\n",
    "\n",
    "new_withdraw = round(0.04 * new_portfolio_10, 2)\n",
    "new_withdraw\n",
    "                         \n",
    "print(f'A 50% increase in the initial investment would bring the new 4% withdrawl to ${new_withdraw}.')"
   ]
  },
  {
   "cell_type": "code",
   "execution_count": null,
   "metadata": {},
   "outputs": [],
   "source": []
  }
 ],
 "metadata": {
  "kernelspec": {
   "display_name": "Python 3",
   "language": "python",
   "name": "python3"
  },
  "language_info": {
   "codemirror_mode": {
    "name": "ipython",
    "version": 3
   },
   "file_extension": ".py",
   "mimetype": "text/x-python",
   "name": "python",
   "nbconvert_exporter": "python",
   "pygments_lexer": "ipython3",
   "version": "3.7.4"
  }
 },
 "nbformat": 4,
 "nbformat_minor": 4
}
