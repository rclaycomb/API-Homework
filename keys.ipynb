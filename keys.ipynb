{
 "cells": [
  {
   "cell_type": "code",
   "execution_count": null,
   "metadata": {},
   "outputs": [],
   "source": [
    "PLAID_CLIENT_ID=5e8f9162547cd5001384723d \\\n",
    "PLAID_SECRET=87ef44217a6d6b635c9db30b7dce3a \\\n",
    "PLAID_PUBLIC_KEY=758b965caedc54ed4fdb8c4ba5b830 \\\n",
    "PLAID_PRODUCTS=transactions \\\n",
    "PLAID_ENV=sandbox \\"
   ]
  }
 ],
 "metadata": {
  "kernelspec": {
   "display_name": "Python 3",
   "language": "python",
   "name": "python3"
  },
  "language_info": {
   "codemirror_mode": {
    "name": "ipython",
    "version": 3
   },
   "file_extension": ".py",
   "mimetype": "text/x-python",
   "name": "python",
   "nbconvert_exporter": "python",
   "pygments_lexer": "ipython3",
   "version": "3.7.4"
  }
 },
 "nbformat": 4,
 "nbformat_minor": 4
}
